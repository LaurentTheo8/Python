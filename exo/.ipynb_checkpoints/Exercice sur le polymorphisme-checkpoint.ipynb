{
 "cells": [
  {
   "cell_type": "code",
   "execution_count": 1,
   "metadata": {},
   "outputs": [
    {
     "name": "stdout",
     "output_type": "stream",
     "text": [
      "Lettre : \n",
      "Adresse dedestination : Lille\n",
      "Adresse d'expedition : Paris\n",
      "Poids : 80 grammes\n",
      "Mode : normal\n",
      "Format : A4\n",
      "Prix du timbre : 0.2\n",
      "Colis : \n",
      "Adresse dedestination : Marrakeche\n",
      "Adresse d'expedition : Barcelone\n",
      "Poids : 3500 grammes\n",
      "Mode : express\n",
      "Volume : 2.25\n",
      "Prix du timbre : 3.9375\n"
     ]
    }
   ],
   "source": [
    "class Courrier:\n",
    "    def __init__(self, adresseeDestination, adresseeExpedition, poids, mode):\n",
    "        self.adresseeExpedition = adresseeExpedition\n",
    "        self.adresseeDestination = adresseeDestination\n",
    "        self.poids = poids\n",
    "        self.mode = mode\n",
    "        \n",
    "    def ToString(self):\n",
    "        print( \"Adresse dedestination : \" + self.adresseeDestination)\n",
    "        print( \"Adresse d'expedition : \" + self.adresseeExpedition)        \n",
    "        print( \"Poids : \" + str(self.poids) + \" grammes\")\n",
    "        print( \"Mode : \" + self.mode)\n",
    "        \n",
    "    def modeExpress(self, montant):\n",
    "        if self.mode == \"express\" :\n",
    "            montant *= 2\n",
    "        return montant;            \n",
    "\n",
    "class Lettre(Courrier):\n",
    "    def __init__(self, adresseeDestination, adresseeExpedition, poids, mode, format):\n",
    "        Courrier.__init__(self, adresseeDestination, adresseeExpedition, poids, mode)\n",
    "        self.format = format\n",
    "        \n",
    "    def PrixTimbre(self):\n",
    "        if(self.format == \"A4\"):\n",
    "            prix = 2.5\n",
    "        else:\n",
    "            prix = 3.5\n",
    "        montant = prix * self.poids /1000\n",
    "        montant = Courrier.modeExpress(self, montant)\n",
    "               \n",
    "        return montant                                 \n",
    "        \n",
    "        \n",
    "    def ToString(self):\n",
    "        print(\"Lettre : \")\n",
    "        Courrier.ToString(self)\n",
    "        print( \"Format : \" + self.format)\n",
    "        print(\"Prix du timbre : \" + str(self.PrixTimbre()))\n",
    "    \n",
    "\n",
    "class Colis:\n",
    "    def __init__(self, adresseeDestination, adresseeExpedition, poids, mode, volume):\n",
    "        Courrier.__init__(self, adresseeDestination, adresseeExpedition, poids, mode)\n",
    "        self.volume = volume\n",
    "        \n",
    "    def PrixTimbre(self):\n",
    "        montant = 0.25 * self.volume * self.poids /1000\n",
    "        montant = Courrier.modeExpress(self, montant)\n",
    "\n",
    "        return montant\n",
    "        \n",
    "    def ToString(self):\n",
    "        print(\"Colis : \")\n",
    "        Courrier.ToString(self)\n",
    "        print(\"Volume : \" + str(self.volume))\n",
    "        print(\"Prix du timbre : \" + str(self.PrixTimbre()))\n",
    "        \n",
    "L1=Lettre(\"Lille\",\"Paris\",80,\"normal\",\"A4\")\n",
    "L1.ToString()\n",
    "\n",
    "C1=Colis(\"Marrakeche\",\"Barcelone\",3500,\"express\",2.25)\n",
    "C1.ToString()\n"
   ]
  },
  {
   "cell_type": "code",
   "execution_count": null,
   "metadata": {},
   "outputs": [],
   "source": []
  }
 ],
 "metadata": {
  "kernelspec": {
   "display_name": "Python 3",
   "language": "python",
   "name": "python3"
  },
  "language_info": {
   "codemirror_mode": {
    "name": "ipython",
    "version": 3
   },
   "file_extension": ".py",
   "mimetype": "text/x-python",
   "name": "python",
   "nbconvert_exporter": "python",
   "pygments_lexer": "ipython3",
   "version": "3.8.2"
  }
 },
 "nbformat": 4,
 "nbformat_minor": 4
}
